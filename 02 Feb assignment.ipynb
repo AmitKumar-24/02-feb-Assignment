{
 "cells": [
  {
   "cell_type": "markdown",
   "id": "8682a73b-e8b1-4d48-8683-ebcbf0331481",
   "metadata": {},
   "source": [
    "Q1.  Explain with an example each when to use a for loop and a while loop. "
   ]
  },
  {
   "cell_type": "markdown",
   "id": "4a90df88-ca1b-4f95-b96e-21ab5c3909ab",
   "metadata": {},
   "source": [
    "For loop - is used when we already know the number of iteration, which means when we know how many times a statement has to be executed. for example-> if we want to check  grade of every student in the class, we loop from 1 to that number.\n",
    "print the numbers 0 to 9\n",
    "for i in range(10):\n",
    "    print(i)\n",
    "While loop - is used to repeat a specific block of code an unknown number of times, until a condition is met.  For example-> if we want to ask a user for a number between 1 to 10 we don't know how many times the user may enter a large number, so we keep asking number between 1 and 10 \n",
    "print the numbers 0 to 9\n",
    "while i < 10:\n",
    "    print(i)\n",
    "    i += 1"
   ]
  },
  {
   "cell_type": "markdown",
   "id": "838fe85f-c59e-40db-8a3e-b52625c585ef",
   "metadata": {},
   "source": [
    "Q2.  Write a python program to print the sum and product of the first 10 natural numbers using for and while loop."
   ]
  },
  {
   "cell_type": "code",
   "execution_count": 32,
   "id": "4abffdee-e4d1-4890-aa2b-93fb8d8bc9ad",
   "metadata": {},
   "outputs": [
    {
     "name": "stdout",
     "output_type": "stream",
     "text": [
      "sum of first 10 natural numbers =  55\n",
      "product of first 10 natural numbers =  3628800\n"
     ]
    }
   ],
   "source": [
    "s = 0\n",
    "p = 1\n",
    "for i in range(1,11):\n",
    "    s += i\n",
    "    p *= i\n",
    "print('sum of first 10 natural numbers = ',s)\n",
    "print('product of first 10 natural numbers = ',p)"
   ]
  },
  {
   "cell_type": "code",
   "execution_count": 1,
   "id": "1788616e-e9f3-4c87-93da-fb0642a3811c",
   "metadata": {},
   "outputs": [
    {
     "name": "stdout",
     "output_type": "stream",
     "text": [
      "sum of first 10 natural numbers =  55\n",
      "product of first 10 natural numbers =  3628800\n"
     ]
    }
   ],
   "source": [
    "# Using while loop\n",
    "n = 10\n",
    "s = 0\n",
    "p = 1\n",
    "i = 1\n",
    "while i <= n:\n",
    "    s += i\n",
    "    p *= i\n",
    "    i += 1\n",
    "print('sum of first 10 natural numbers = ',s)\n",
    "print('product of first 10 natural numbers = ',p)"
   ]
  },
  {
   "cell_type": "markdown",
   "id": "ccbbf2a7-72a4-49b2-995b-f780a5849861",
   "metadata": {},
   "source": [
    "Q3. Create a python program to compute the electricity bill for a household. \n",
    "The per-unit charges in rupees are as follows: For the first 100 units, the user will be charged Rs. 4.5 per\n",
    "unit, for the next 100 units, the user will be charged Rs. 6 per unit, and for the next 100 units, the user\n",
    "will  be charged Rs. 10 per unit, After 300 units and above the user will be charged Rs. 20 per unit. \n",
    "You are required to take the units of electricity consumed in a month from the user as input. \n",
    "Your program must pass this test case: when the unit of electricity consumed by the user in a month is\n",
    "310, the total electricity bill should be 2250. "
   ]
  },
  {
   "cell_type": "code",
   "execution_count": 3,
   "id": "d5f79c34-140c-40e1-81de-bcc71f49d7ab",
   "metadata": {},
   "outputs": [
    {
     "name": "stdin",
     "output_type": "stream",
     "text": [
      "Enter your unit:  310\n"
     ]
    },
    {
     "name": "stdout",
     "output_type": "stream",
     "text": [
      "Total electricity bill :  2250\n"
     ]
    }
   ],
   "source": [
    "unit = int(input(\"Enter your unit: \"))\n",
    "if unit <= 100:\n",
    "    bill = unit * 4.5\n",
    "elif unit <=200 and unit >=100:\n",
    "    bill = 450 + ((unit - 100)*6)\n",
    "elif unit <= 300 and unit >= 200:\n",
    "    bill = 450 + 600  + ((unit - 200)*10)\n",
    "else:\n",
    "    bill = 450 + 600 + 1000 + ((unit - 300) * 20)\n",
    "print('Total electricity bill : ',bill)"
   ]
  },
  {
   "cell_type": "markdown",
   "id": "80c14079-b732-4212-8235-49d6ccebc5be",
   "metadata": {},
   "source": [
    "Q4. Create a list of numbers from 1 to 100. Use for loop and while loop to calculate the cube of each \n",
    "number and if the cube of that number is divisible by 4 or 5 then append that number in a list and print  that list. "
   ]
  },
  {
   "cell_type": "code",
   "execution_count": 23,
   "id": "68e84ca5-5511-4f69-956d-4c5fbc78f5f6",
   "metadata": {},
   "outputs": [
    {
     "name": "stdout",
     "output_type": "stream",
     "text": [
      "[8, 64, 125, 216, 512, 1000, 1728, 2744, 3375, 4096, 5832, 8000, 10648, 13824, 15625, 17576, 21952, 27000, 32768, 39304, 42875, 46656, 54872, 64000, 74088, 85184, 91125, 97336, 110592, 125000, 140608, 157464, 166375, 175616, 195112, 216000, 238328, 262144, 274625, 287496, 314432, 343000, 373248, 405224, 421875, 438976, 474552, 512000, 551368, 592704, 614125, 636056, 681472, 729000, 778688, 830584, 857375, 884736, 941192, 1000000]\n"
     ]
    }
   ],
   "source": [
    "# Using for loop\n",
    "l1= []\n",
    "l2 = []\n",
    "for i in range(1,101):\n",
    "    l1.append(i)\n",
    "    cube = i ** 3\n",
    "    if cube % 4 == 0 or cube % 5 == 0:\n",
    "            l2.append(cube)\n",
    "print(l2)"
   ]
  },
  {
   "cell_type": "code",
   "execution_count": 3,
   "id": "dac3f8cb-2700-4323-8b14-20f28b7dd738",
   "metadata": {},
   "outputs": [
    {
     "name": "stdout",
     "output_type": "stream",
     "text": [
      "[8, 64, 125, 216, 512, 1000, 1728, 2744, 3375, 4096, 5832, 8000, 10648, 13824, 15625, 17576, 21952, 27000, 32768, 39304, 42875, 46656, 54872, 64000, 74088, 85184, 91125, 97336, 110592, 125000, 140608, 157464, 166375, 175616, 195112, 216000, 238328, 262144, 274625, 287496, 314432, 343000, 373248, 405224, 421875, 438976, 474552, 512000, 551368, 592704, 614125, 636056, 681472, 729000, 778688, 830584, 857375, 884736, 941192, 1000000]\n"
     ]
    }
   ],
   "source": [
    "# Using while loop\n",
    "l1 = []\n",
    "l2 = []\n",
    "i = 1\n",
    "while i <= 100:\n",
    "    l1.append(i)\n",
    "    cube = i **3\n",
    "    if cube % 4 == 0 or cube % 5 == 0:\n",
    "        l2.append(cube)\n",
    "    i += 1\n",
    "print(l2)"
   ]
  },
  {
   "cell_type": "markdown",
   "id": "1c6a3652-9144-4253-b292-a7b2a5a71796",
   "metadata": {},
   "source": [
    "Q5.  Write a program to filter count vowels in the below-given string. "
   ]
  },
  {
   "cell_type": "code",
   "execution_count": 2,
   "id": "5e462cb8-7c62-4b71-b98b-ef766aa50206",
   "metadata": {},
   "outputs": [
    {
     "name": "stdout",
     "output_type": "stream",
     "text": [
      "number of vowels :  12\n"
     ]
    }
   ],
   "source": [
    "string = \"I want to become a data scientist\"\n",
    "vowels = set('aeiouAEIOU')\n",
    "count = 0\n",
    "for i in string:\n",
    "    if i in vowels:\n",
    "        count += 1\n",
    "print('number of vowels : ', count)"
   ]
  }
 ],
 "metadata": {
  "kernelspec": {
   "display_name": "Python 3 (ipykernel)",
   "language": "python",
   "name": "python3"
  },
  "language_info": {
   "codemirror_mode": {
    "name": "ipython",
    "version": 3
   },
   "file_extension": ".py",
   "mimetype": "text/x-python",
   "name": "python",
   "nbconvert_exporter": "python",
   "pygments_lexer": "ipython3",
   "version": "3.10.8"
  }
 },
 "nbformat": 4,
 "nbformat_minor": 5
}
